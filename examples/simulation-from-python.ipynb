{
 "cells": [
  {
   "cell_type": "markdown",
   "id": "0354ed28",
   "metadata": {},
   "source": [
    "# Simulation from Python"
   ]
  },
  {
   "cell_type": "markdown",
   "id": "later-medline",
   "metadata": {},
   "source": [
    "You can use the GLASS `Simulation` interface from Python. The process is the same as using the configuration files: Create a simulation, then add functions to it."
   ]
  },
  {
   "cell_type": "code",
   "execution_count": 1,
   "id": "grateful-updating",
   "metadata": {},
   "outputs": [],
   "source": [
    "from glass.simulation import Simulation"
   ]
  },
  {
   "cell_type": "markdown",
   "id": "91dc5e70",
   "metadata": {},
   "source": [
    "## Setting up the simulation"
   ]
  },
  {
   "cell_type": "markdown",
   "id": "4f63fe40",
   "metadata": {},
   "source": [
    "The simulation is initialised with the options you would find in the `[config]` section of a configuration file."
   ]
  },
  {
   "cell_type": "code",
   "execution_count": 2,
   "id": "5dfffa51",
   "metadata": {},
   "outputs": [],
   "source": [
    "nside = 512\n",
    "zbins = [0.1, 0.2, 0.3, 0.4, 0.5]"
   ]
  },
  {
   "cell_type": "code",
   "execution_count": 3,
   "id": "7e0fa335",
   "metadata": {},
   "outputs": [],
   "source": [
    "sim = Simulation(nside=nside, zbins=zbins)"
   ]
  },
  {
   "cell_type": "markdown",
   "id": "acef732c",
   "metadata": {},
   "source": [
    "## Adding functions"
   ]
  },
  {
   "cell_type": "markdown",
   "id": "ad644835",
   "metadata": {},
   "source": [
    "You can then add functions to your simulation, similar to what you would find in the `[simulation]` section of a configuration file. However, from Python, the functions must be imported first."
   ]
  },
  {
   "cell_type": "code",
   "execution_count": 4,
   "id": "ac0361ba",
   "metadata": {},
   "outputs": [],
   "source": [
    "from glass.cosmology import cosmology\n",
    "from glass.cls import cls_from_pyccl\n",
    "from glass.matter import lognormal_matter\n",
    "from glass.lensing import lognormal_convergence, shear_from_convergence"
   ]
  },
  {
   "cell_type": "markdown",
   "id": "e1567f6c",
   "metadata": {},
   "source": [
    "You can then add the steps of the simulation. The `add()` function takes the function to call and its arguments. The return value of `add()` is the function call that will be used in the simulation."
   ]
  },
  {
   "cell_type": "code",
   "execution_count": 5,
   "id": "7c23c264",
   "metadata": {},
   "outputs": [
    {
     "data": {
      "text/plain": [
       "cosmology = cosmology(H0=70, Om=0.3)"
      ]
     },
     "execution_count": 5,
     "metadata": {},
     "output_type": "execute_result"
    }
   ],
   "source": [
    "sim.add(cosmology, H0=70, Om=0.3)"
   ]
  },
  {
   "cell_type": "markdown",
   "id": "6014fc0a",
   "metadata": {},
   "source": [
    "The next step will be calling `cls_from_pyccl` to compute the Cls of the random fields. However, that functions requires the redshift bins and cosmology as arguments. You can see in the output below that the simulation resolves the names by itself."
   ]
  },
  {
   "cell_type": "code",
   "execution_count": 6,
   "id": "a2ace3f1",
   "metadata": {},
   "outputs": [
    {
     "data": {
      "text/plain": [
       "theory_cls = cls_from_pyccl({'matter': None, 'convergence': None}, 1000, zbins, cosmology)"
      ]
     },
     "execution_count": 6,
     "metadata": {},
     "output_type": "execute_result"
    }
   ],
   "source": [
    "sim.add(cls_from_pyccl, fields={'matter': None, 'convergence': None}, lmax=1000)"
   ]
  },
  {
   "cell_type": "markdown",
   "id": "c5dc68d5",
   "metadata": {},
   "source": [
    "Next are the random fields. These are handled in a special way by the simulator, since all random fields must be simulated in a single step, due to correlations. But this is done internally, and they are added as any other function."
   ]
  },
  {
   "cell_type": "code",
   "execution_count": 7,
   "id": "45c1ec76",
   "metadata": {},
   "outputs": [
    {
     "data": {
      "text/plain": [
       "matter = lognormal_matter(nbins)"
      ]
     },
     "execution_count": 7,
     "metadata": {},
     "output_type": "execute_result"
    }
   ],
   "source": [
    "sim.add(lognormal_matter)"
   ]
  },
  {
   "cell_type": "code",
   "execution_count": 8,
   "id": "8af24cc3",
   "metadata": {},
   "outputs": [
    {
     "data": {
      "text/plain": [
       "convergence = lognormal_convergence(zbins)"
      ]
     },
     "execution_count": 8,
     "metadata": {},
     "output_type": "execute_result"
    }
   ],
   "source": [
    "sim.add(lognormal_convergence)"
   ]
  },
  {
   "cell_type": "markdown",
   "id": "176e065c",
   "metadata": {},
   "source": [
    "Finally, add a simulation step that is not a random field."
   ]
  },
  {
   "cell_type": "code",
   "execution_count": 9,
   "id": "ab5ebeb5",
   "metadata": {},
   "outputs": [
    {
     "data": {
      "text/plain": [
       "shear = shear_from_convergence(convergence)"
      ]
     },
     "execution_count": 9,
     "metadata": {},
     "output_type": "execute_result"
    }
   ],
   "source": [
    "sim.add(shear_from_convergence)"
   ]
  },
  {
   "cell_type": "markdown",
   "id": "2a29b85f",
   "metadata": {},
   "source": [
    "## Running the simulation"
   ]
  },
  {
   "cell_type": "markdown",
   "id": "3dbb36f4",
   "metadata": {},
   "source": [
    "Once steps have been added, the simulation runs by calling the `run()` method. This returns a `state` dictionary that contains the names and outputs of all functions added above."
   ]
  },
  {
   "cell_type": "code",
   "execution_count": 10,
   "id": "9eb697e6",
   "metadata": {},
   "outputs": [
    {
     "name": "stderr",
     "output_type": "stream",
     "text": [
      "WARNING: negative Gaussian cls for field 4\n",
      "WARNING: negative Gaussian cls for field 5\n",
      "WARNING: negative Gaussian cls for field 6\n",
      "WARNING: negative Gaussian cls for field 7\n"
     ]
    }
   ],
   "source": [
    "state = sim.run()"
   ]
  },
  {
   "cell_type": "code",
   "execution_count": 11,
   "id": "1c3b9d85",
   "metadata": {},
   "outputs": [
    {
     "data": {
      "text/plain": [
       "['nside',\n",
       " 'zbins',\n",
       " 'nbins',\n",
       " 'cosmology',\n",
       " 'theory_cls',\n",
       " 'matter',\n",
       " 'convergence',\n",
       " 'shear',\n",
       " '__run__',\n",
       " 'cls',\n",
       " 'gaussian_cls',\n",
       " 'reg_gaussian_cls',\n",
       " 'regularized_cls']"
      ]
     },
     "execution_count": 11,
     "metadata": {},
     "output_type": "execute_result"
    }
   ],
   "source": [
    "list(state.keys())"
   ]
  },
  {
   "cell_type": "code",
   "execution_count": null,
   "id": "864f9c97",
   "metadata": {},
   "outputs": [],
   "source": []
  }
 ],
 "metadata": {
  "kernelspec": {
   "display_name": "Python 3 (ipykernel)",
   "language": "python",
   "name": "python3"
  },
  "language_info": {
   "codemirror_mode": {
    "name": "ipython",
    "version": 3
   },
   "file_extension": ".py",
   "mimetype": "text/x-python",
   "name": "python",
   "nbconvert_exporter": "python",
   "pygments_lexer": "ipython3",
   "version": "3.9.7"
  }
 },
 "nbformat": 4,
 "nbformat_minor": 5
}
