{
 "cells": [
  {
   "cell_type": "markdown",
   "metadata": {},
   "source": [
    "\n",
    "# Matter shell definition\n",
    "\n",
    "This example demonstrates how matter shells are defined, and their angular power\n",
    "spectra computed.\n",
    "\n",
    "The the angular power spectra are saved here, so that they can be reused in\n",
    "other examples without recomputing.\n"
   ]
  },
  {
   "cell_type": "markdown",
   "metadata": {},
   "source": [
    "## Compute\n",
    "Here we define the shells for these examples, and use CAMB to compute the\n",
    "angular matter power spectra for the shell definitions.\n",
    "\n"
   ]
  },
  {
   "cell_type": "code",
   "execution_count": 1,
   "metadata": {
    "collapsed": false,
    "execution": {
     "iopub.execute_input": "2024-09-06T14:50:25.612793Z",
     "iopub.status.busy": "2024-09-06T14:50:25.612601Z",
     "iopub.status.idle": "2024-09-06T14:52:25.263781Z",
     "shell.execute_reply": "2024-09-06T14:52:25.263154Z"
    }
   },
   "outputs": [],
   "source": [
    "import numpy as np\n",
    "import camb\n",
    "from cosmology import Cosmology\n",
    "\n",
    "import glass.shells\n",
    "import glass.ext.camb\n",
    "\n",
    "\n",
    "# cosmology for the simulation\n",
    "h = 0.7\n",
    "Oc = 0.25\n",
    "Ob = 0.05\n",
    "\n",
    "# basic parameters of the simulation\n",
    "lmax = 1000\n",
    "\n",
    "# set up CAMB parameters for matter angular power spectrum\n",
    "pars = camb.set_params(H0=100*h, omch2=Oc*h**2, ombh2=Ob*h**2,\n",
    "                       NonLinear=camb.model.NonLinear_both)\n",
    "\n",
    "# get the cosmology from CAMB\n",
    "cosmo = Cosmology.from_camb(pars)\n",
    "\n",
    "# shells of 200 Mpc in comoving distance spacing\n",
    "zb = glass.shells.distance_grid(cosmo, 0., 1., dx=200.)\n",
    "\n",
    "# uniform matter weight function\n",
    "# CAMB requires linear ramp for low redshifts\n",
    "ws = glass.shells.tophat_windows(zb, weight=glass.ext.camb.camb_tophat_weight)\n",
    "\n",
    "# compute angular matter power spectra with CAMB\n",
    "cls = glass.ext.camb.matter_cls(pars, lmax, ws)"
   ]
  },
  {
   "cell_type": "markdown",
   "metadata": {},
   "source": [
    "## Save\n",
    "We save the shell definitions to file, for use in other examples.\n",
    "\n"
   ]
  },
  {
   "cell_type": "code",
   "execution_count": 2,
   "metadata": {
    "collapsed": false,
    "execution": {
     "iopub.execute_input": "2024-09-06T14:52:25.266546Z",
     "iopub.status.busy": "2024-09-06T14:52:25.266336Z",
     "iopub.status.idle": "2024-09-06T14:52:25.270491Z",
     "shell.execute_reply": "2024-09-06T14:52:25.270271Z"
    }
   },
   "outputs": [],
   "source": [
    "np.save('cls.npy', cls)"
   ]
  }
 ],
 "metadata": {
  "kernelspec": {
   "display_name": "Python 3",
   "language": "python",
   "name": "python3"
  },
  "language_info": {
   "codemirror_mode": {
    "name": "ipython",
    "version": 3
   },
   "file_extension": ".py",
   "mimetype": "text/x-python",
   "name": "python",
   "nbconvert_exporter": "python",
   "pygments_lexer": "ipython3",
   "version": "3.12.3"
  }
 },
 "nbformat": 4,
 "nbformat_minor": 0
}
