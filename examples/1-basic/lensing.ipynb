{
 "cells": [
  {
   "cell_type": "markdown",
   "metadata": {},
   "source": [
    "\n",
    "# Weak lensing\n",
    "\n",
    "This example computes weak lensing maps (convergence and shear) for a redshift\n",
    "distribution of sources.  The lensing is simulated by a line of sight\n",
    "integration of the matter fields.\n"
   ]
  },
  {
   "cell_type": "markdown",
   "metadata": {},
   "source": [
    "## Setup\n",
    "\n",
    "Simulate the matter fields, and use them to iteratively compute the lensing\n",
    "fields.\n",
    "\n",
    "To obtain the effective integrated lensing maps of a distribution of sources,\n",
    "the fields from each plane are collected and added with their respective\n",
    "weights.\n",
    "\n",
    "The precomputed angular matter power spectra from the :doc:`/basic/shells`\n",
    "example are used, so the simulation is set up in the same way.  CAMB is also\n",
    "used further below to compute the theory lensing spectra.\n",
    "\n"
   ]
  },
  {
   "cell_type": "code",
   "execution_count": 1,
   "metadata": {
    "collapsed": false,
    "execution": {
     "iopub.execute_input": "2024-09-06T15:59:14.801522Z",
     "iopub.status.busy": "2024-09-06T15:59:14.801016Z",
     "iopub.status.idle": "2024-09-06T15:59:15.313168Z",
     "shell.execute_reply": "2024-09-06T15:59:15.312884Z"
    }
   },
   "outputs": [],
   "source": [
    "import numpy as np\n",
    "import healpy as hp\n",
    "import matplotlib.pyplot as plt\n",
    "\n",
    "# use the CAMB cosmology that generated the matter power spectra\n",
    "import camb\n",
    "from cosmology import Cosmology\n",
    "\n",
    "# GLASS imports\n",
    "import glass.shells\n",
    "import glass.fields\n",
    "import glass.lensing\n",
    "import glass.galaxies\n",
    "\n",
    "\n",
    "# cosmology for the simulation\n",
    "h = 0.7\n",
    "Oc = 0.25\n",
    "Ob = 0.05\n",
    "\n",
    "# basic parameters of the simulation\n",
    "nside = lmax = 256\n",
    "\n",
    "# set up CAMB parameters for matter angular power spectrum\n",
    "pars = camb.set_params(H0=100*h, omch2=Oc*h**2, ombh2=Ob*h**2,\n",
    "                       NonLinear=camb.model.NonLinear_both)\n",
    "\n",
    "# get the cosmology from CAMB\n",
    "cosmo = Cosmology.from_camb(pars)\n",
    "\n",
    "# shells of 200 Mpc in comoving distance spacing\n",
    "zb = glass.shells.distance_grid(cosmo, 0., 1., dx=200.)\n",
    "\n",
    "# uniform matter weight function\n",
    "ws = glass.shells.tophat_windows(zb)\n",
    "\n",
    "# load the angular matter power spectra previously computed with CAMB\n",
    "cls = np.load('cls.npy')"
   ]
  },
  {
   "cell_type": "markdown",
   "metadata": {},
   "source": [
    "## Matter\n",
    "\n"
   ]
  },
  {
   "cell_type": "code",
   "execution_count": 2,
   "metadata": {
    "collapsed": false,
    "execution": {
     "iopub.execute_input": "2024-09-06T15:59:15.314472Z",
     "iopub.status.busy": "2024-09-06T15:59:15.314376Z",
     "iopub.status.idle": "2024-09-06T15:59:15.395153Z",
     "shell.execute_reply": "2024-09-06T15:59:15.394925Z"
    }
   },
   "outputs": [],
   "source": [
    "# compute Gaussian cls for lognormal fields for 3 correlated shells\n",
    "# putting nside here means that the HEALPix pixel window function is applied\n",
    "gls = glass.fields.lognormal_gls(cls, nside=nside, lmax=lmax, ncorr=3)\n",
    "\n",
    "# generator for lognormal matter fields\n",
    "matter = glass.fields.generate_lognormal(gls, nside, ncorr=3)"
   ]
  },
  {
   "cell_type": "markdown",
   "metadata": {},
   "source": [
    "## Lensing\n",
    "\n"
   ]
  },
  {
   "cell_type": "code",
   "execution_count": 3,
   "metadata": {
    "collapsed": false,
    "execution": {
     "iopub.execute_input": "2024-09-06T15:59:15.396274Z",
     "iopub.status.busy": "2024-09-06T15:59:15.396201Z",
     "iopub.status.idle": "2024-09-06T15:59:15.397685Z",
     "shell.execute_reply": "2024-09-06T15:59:15.397479Z"
    }
   },
   "outputs": [],
   "source": [
    "# this will compute the convergence field iteratively\n",
    "convergence = glass.lensing.MultiPlaneConvergence(cosmo)"
   ]
  },
  {
   "cell_type": "markdown",
   "metadata": {},
   "source": [
    "## Galaxy\n",
    "\n"
   ]
  },
  {
   "cell_type": "code",
   "execution_count": 4,
   "metadata": {
    "collapsed": false,
    "execution": {
     "iopub.execute_input": "2024-09-06T15:59:15.398635Z",
     "iopub.status.busy": "2024-09-06T15:59:15.398573Z",
     "iopub.status.idle": "2024-09-06T15:59:15.400002Z",
     "shell.execute_reply": "2024-09-06T15:59:15.399846Z"
    }
   },
   "outputs": [],
   "source": [
    "# localised redshift distribution\n",
    "# the actual density per arcmin2 does not matter here, it is never used\n",
    "z = np.linspace(0, 1, 101)\n",
    "dndz = np.exp(-(z - 0.5)**2/(0.1)**2)"
   ]
  },
  {
   "cell_type": "markdown",
   "metadata": {},
   "source": [
    "## Simulation\n",
    "The simulation is then straightforward:  Compute the lensing fields for each\n",
    "shell and add them up using the galaxy densities as a weight.\n",
    "\n"
   ]
  },
  {
   "cell_type": "code",
   "execution_count": 5,
   "metadata": {
    "collapsed": false,
    "execution": {
     "iopub.execute_input": "2024-09-06T15:59:15.400996Z",
     "iopub.status.busy": "2024-09-06T15:59:15.400910Z",
     "iopub.status.idle": "2024-09-06T15:59:16.139967Z",
     "shell.execute_reply": "2024-09-06T15:59:16.139658Z"
    }
   },
   "outputs": [],
   "source": [
    "# the integrated convergence and shear field over the redshift distribution\n",
    "kappa_bar = np.zeros(12*nside**2)\n",
    "gamm1_bar = np.zeros(12*nside**2)\n",
    "gamm2_bar = np.zeros(12*nside**2)\n",
    "\n",
    "# main loop to simulate the matter fields iterative\n",
    "for i, delta_i in enumerate(matter):\n",
    "\n",
    "    # add lensing plane from the window function of this shell\n",
    "    convergence.add_window(delta_i, ws[i])\n",
    "\n",
    "    # get convergence field\n",
    "    kappa_i = convergence.kappa\n",
    "\n",
    "    # compute shear field\n",
    "    gamm1_i, gamm2_i = glass.lensing.shear_from_convergence(kappa_i)\n",
    "\n",
    "    # get the restriction of the dndz to this shell\n",
    "    z_i, dndz_i = glass.shells.restrict(z, dndz, ws[i])\n",
    "\n",
    "    # compute the galaxy density in this shell\n",
    "    ngal = np.trapz(dndz_i, z_i)\n",
    "\n",
    "    # add to mean fields using the galaxy number density as weight\n",
    "    kappa_bar += ngal * kappa_i\n",
    "    gamm1_bar += ngal * gamm1_i\n",
    "    gamm2_bar += ngal * gamm2_i\n",
    "\n",
    "# compute the overall galaxy density\n",
    "ngal = np.trapz(dndz, z)\n",
    "\n",
    "# normalise mean fields by the total galaxy number density\n",
    "kappa_bar /= np.sum(ngal)\n",
    "gamm1_bar /= np.sum(ngal)\n",
    "gamm2_bar /= np.sum(ngal)"
   ]
  },
  {
   "cell_type": "markdown",
   "metadata": {},
   "source": [
    "## Analysis\n",
    "To make sure the simulation works, compute the angular power spectrum of the\n",
    "simulated convergence field, and compare with the expectation (from CAMB) for\n",
    "the given redshift distribution of sources.\n",
    "\n",
    "We are not doing the modelling very carefully here, so a bit of discrepancy is\n",
    "to be expected.\n",
    "\n"
   ]
  },
  {
   "cell_type": "code",
   "execution_count": 6,
   "metadata": {
    "collapsed": false,
    "execution": {
     "iopub.execute_input": "2024-09-06T15:59:16.141275Z",
     "iopub.status.busy": "2024-09-06T15:59:16.141204Z",
     "iopub.status.idle": "2024-09-06T15:59:16.956524Z",
     "shell.execute_reply": "2024-09-06T15:59:16.956285Z"
    }
   },
   "outputs": [
    {
     "data": {
      "image/png": "[encoded data removed]",
      "text/plain": [
       "<Figure size 640x480 with 1 Axes>"
      ]
     },
     "metadata": {},
     "output_type": "display_data"
    }
   ],
   "source": [
    "# get the angular power spectra of the lensing maps\n",
    "sim_cls = hp.anafast([kappa_bar, gamm1_bar, gamm2_bar],\n",
    "                     pol=True, lmax=lmax, use_pixel_weights=True)\n",
    "\n",
    "# get the expected cls from CAMB\n",
    "pars.min_l = 1\n",
    "pars.set_for_lmax(lmax)\n",
    "pars.SourceWindows = [camb.sources.SplinedSourceWindow(z=z, W=dndz, source_type='lensing')]\n",
    "theory_cls = camb.get_results(pars).get_source_cls_dict(lmax=lmax, raw_cl=True)\n",
    "\n",
    "# get the HEALPix pixel window function, since the lensing fields have it\n",
    "pw = hp.pixwin(nside, lmax=lmax)\n",
    "\n",
    "# plot the realised and expected cls\n",
    "l = np.arange(lmax+1)\n",
    "plt.plot(l, sim_cls[0], '-k', lw=2, label='simulation')\n",
    "plt.plot(l, theory_cls['W1xW1']*pw**2, '-r', lw=1, label='expectation')\n",
    "plt.xscale('symlog', linthresh=10, linscale=0.5, subs=[2, 3, 4, 5, 6, 7, 8, 9])\n",
    "plt.yscale('symlog', linthresh=1e-9, linscale=0.5, subs=[2, 3, 4, 5, 6, 7, 8, 9])\n",
    "plt.xlabel(r'angular mode number $l$')\n",
    "plt.ylabel(r'angular power spectrum $C_l^{\\kappa\\kappa}$')\n",
    "plt.legend(frameon=False)\n",
    "plt.show()"
   ]
  }
 ],
 "metadata": {
  "kernelspec": {
   "display_name": "Python 3",
   "language": "python",
   "name": "python3"
  },
  "language_info": {
   "codemirror_mode": {
    "name": "ipython",
    "version": 3
   },
   "file_extension": ".py",
   "mimetype": "text/x-python",
   "name": "python",
   "nbconvert_exporter": "python",
   "pygments_lexer": "ipython3",
   "version": "3.12.3"
  }
 },
 "nbformat": 4,
 "nbformat_minor": 0
}
