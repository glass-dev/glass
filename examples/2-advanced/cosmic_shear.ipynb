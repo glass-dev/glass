{
 "cells": [
  {
   "cell_type": "markdown",
   "metadata": {},
   "source": [
    "# Cosmic shear\n",
    "\n",
    "This example simulates a galaxy catalogue with shears affected by weak lensing, combining the [galaxies](../1-basic/density.ipynb) and [lensing](../1-basic/lensing.ipynb) examples with models for the intrinsic galaxy ellipticity and the resulting shear."
   ]
  },
  {
   "cell_type": "markdown",
   "metadata": {},
   "source": [
    "## Setup\n",
    "\n",
    "The setup of galaxies and weak lensing fields is the same as in the basic examples.\n",
    "The setup for angular matter power spectra matches the definition from the [Matter shell definition](../1-basic/shells.ipynb) example."
   ]
  },
  {
   "cell_type": "code",
   "execution_count": null,
   "metadata": {},
   "outputs": [],
   "source": [
    "import healpy as hp\n",
    "import matplotlib.pyplot as plt\n",
    "import numpy as np\n",
    "\n",
    "# use the CAMB cosmology that generated the matter power spectra\n",
    "import camb\n",
    "from cosmology import Cosmology\n",
    "\n",
    "# almost all GLASS functionality is available from the `glass` namespace\n",
    "import glass\n",
    "import glass.ext.camb\n",
    "\n",
    "# how many arcmin2 over the entire sphere\n",
    "ARCMIN2_SPHERE = 60**6 // 100 / np.pi\n",
    "\n",
    "# creating a numpy random number generator for sampling\n",
    "rng = np.random.default_rng(seed=42)\n",
    "\n",
    "# cosmology for the simulation\n",
    "h = 0.7\n",
    "Oc = 0.25\n",
    "Ob = 0.05\n",
    "\n",
    "# basic parameters of the simulation\n",
    "nside = lmax = 256\n",
    "\n",
    "# set up CAMB parameters for matter angular power spectrum\n",
    "pars = camb.set_params(\n",
    "    H0=100 * h,\n",
    "    omch2=Oc * h**2,\n",
    "    ombh2=Ob * h**2,\n",
    "    NonLinear=camb.model.NonLinear_both,\n",
    ")\n",
    "\n",
    "# get the cosmology from CAMB\n",
    "cosmo = Cosmology.from_camb(pars)\n",
    "\n",
    "# shells of 200 Mpc in comoving distance spacing\n",
    "zb = glass.distance_grid(cosmo, 0.0, 1.0, dx=200.0)\n",
    "\n",
    "# linear window function for shells\n",
    "shells = glass.linear_windows(zb)\n",
    "\n",
    "# compute the angular matter power spectra of the shells with CAMB\n",
    "cls = glass.ext.camb.matter_cls(pars, lmax, shells)"
   ]
  },
  {
   "cell_type": "markdown",
   "metadata": {},
   "source": [
    "## Matter"
   ]
  },
  {
   "cell_type": "code",
   "execution_count": null,
   "metadata": {},
   "outputs": [],
   "source": [
    "# set up lognormal matter fields for simulation\n",
    "fields = glass.lognormal_fields(shells)\n",
    "\n",
    "# apply discretisation to the full set of spectra:\n",
    "# - HEALPix pixel window function (`nside=nside`)\n",
    "# - maximum angular mode number (`lmax=lmax`)\n",
    "# - number of correlated shells (`ncorr=3`)\n",
    "cls = glass.discretized_cls(cls, nside=nside, lmax=lmax, ncorr=3)\n",
    "\n",
    "# compute Gaussian spectra for lognormal fields from discretised spectra\n",
    "gls = glass.solve_gaussian_spectra(fields, cls)\n",
    "\n",
    "# generator for lognormal matter fields\n",
    "matter = glass.generate(fields, gls, nside, ncorr=3, rng=rng)"
   ]
  },
  {
   "cell_type": "markdown",
   "metadata": {},
   "source": [
    "## Lensing"
   ]
  },
  {
   "cell_type": "code",
   "execution_count": null,
   "metadata": {},
   "outputs": [],
   "source": [
    "# this will compute the convergence field iteratively\n",
    "convergence = glass.MultiPlaneConvergence(cosmo)"
   ]
  },
  {
   "cell_type": "markdown",
   "metadata": {},
   "source": [
    "## Galaxies"
   ]
  },
  {
   "cell_type": "code",
   "execution_count": null,
   "metadata": {},
   "outputs": [],
   "source": [
    "# standard deviation in each component of galaxy ellipticity\n",
    "# this is very small so that the galaxy density can be small, too\n",
    "sigma_e = 0.01\n",
    "\n",
    "# galaxy number density per arcmin2, over all shells\n",
    "n_arcmin2 = 0.01\n",
    "\n",
    "# localised redshift distribution with the given density\n",
    "z = np.arange(0.0, 2.0, 0.01)\n",
    "dndz = np.exp(-((z - 0.5) ** 2) / (0.1) ** 2)\n",
    "dndz *= n_arcmin2 / np.trapezoid(dndz, z)\n",
    "\n",
    "# distribute dN/dz over the radial window functions\n",
    "ngal = glass.partition(z, dndz, shells)"
   ]
  },
  {
   "cell_type": "markdown",
   "metadata": {},
   "source": [
    "## Simulation\n",
    "\n",
    "Simulate the galaxies with shears.\n",
    "In each iteration, get the shears and map them to a HEALPix map for later analysis.\n",
    "\n",
    "In addition, generate the galaxy ellipticities, drawn from the intrinsic normal distribution.\n",
    "The standard deviation is much too small to be realistic, but enables the example to get away with fewer total galaxies.\n",
    "\n",
    "Finally, apply the reduced shear from the lensing maps to the galaxy ellipticities, producing the galaxy shears."
   ]
  },
  {
   "cell_type": "code",
   "execution_count": null,
   "metadata": {},
   "outputs": [],
   "source": [
    "# number of HEALPix pixels in the maps\n",
    "npix = 12 * nside**2\n",
    "\n",
    "# map for galaxy numbers\n",
    "num = np.zeros(npix)\n",
    "\n",
    "# map for sum of shears\n",
    "she = np.zeros(npix, dtype=complex)\n",
    "\n",
    "# simulate the matter fields in the main loop\n",
    "for i, delta_i in enumerate(matter):\n",
    "    # compute the lensing maps for this shell\n",
    "    convergence.add_window(delta_i, shells[i])\n",
    "    kappa_i = convergence.kappa\n",
    "    gamm1_i, gamm2_i = glass.shear_from_convergence(kappa_i)\n",
    "\n",
    "    # generate galaxy positions uniformly over the sphere\n",
    "    for gal_lon, gal_lat, gal_count in glass.uniform_positions(ngal[i], rng=rng):\n",
    "        # generate galaxy ellipticities from the chosen distribution\n",
    "        gal_eps = glass.ellipticity_intnorm(gal_count, sigma_e, rng=rng)\n",
    "\n",
    "        # apply the shear fields to the ellipticities\n",
    "        gal_she = glass.galaxy_shear(\n",
    "            gal_lon,\n",
    "            gal_lat,\n",
    "            gal_eps,\n",
    "            kappa_i,\n",
    "            gamm1_i,\n",
    "            gamm2_i,\n",
    "        )\n",
    "\n",
    "        # map the galaxy shears to a HEALPix map; this is opaque but works\n",
    "        gal_pix = hp.ang2pix(nside, gal_lon, gal_lat, lonlat=True)\n",
    "        s = np.argsort(gal_pix)\n",
    "        pix, start, count = np.unique(gal_pix[s], return_index=True, return_counts=True)\n",
    "        num[pix] += count\n",
    "        she[pix] += list(map(np.sum, np.split(gal_she[s], start[1:])))"
   ]
  },
  {
   "cell_type": "markdown",
   "metadata": {},
   "source": [
    "## Analysis\n",
    "\n",
    "Compute the angular power spectrum of the observed galaxy shears.\n",
    "To compare with the expectation, take into account the expected noise level due to shape noise, and the expected mixing matrix for a uniform distribution of points."
   ]
  },
  {
   "cell_type": "code",
   "execution_count": null,
   "metadata": {},
   "outputs": [
    {
     "data": {
      "image/png": "[encoded data removed]",
      "text/plain": [
       "<Figure size 640x480 with 1 Axes>"
      ]
     },
     "metadata": {},
     "output_type": "display_data"
    }
   ],
   "source": [
    "# compute the expected number of galaxies in each pixel\n",
    "nbar = ARCMIN2_SPHERE / npix * n_arcmin2\n",
    "\n",
    "# normalise the maps by the expected number of galaxies in each pixel\n",
    "she /= nbar\n",
    "num /= nbar\n",
    "\n",
    "# get the angular power spectra from the galaxy shears\n",
    "cls = hp.anafast([num, she.real, she.imag], pol=True, lmax=lmax, use_pixel_weights=True)\n",
    "\n",
    "# get the theory cls from CAMB\n",
    "pars.NonLinear = \"NonLinear_both\"\n",
    "pars.Want_CMB = False\n",
    "pars.min_l = 1\n",
    "pars.set_for_lmax(lmax)\n",
    "pars.SourceWindows = [\n",
    "    camb.sources.SplinedSourceWindow(z=z, W=dndz, source_type=\"lensing\"),\n",
    "]\n",
    "theory_cls = camb.get_results(pars).get_source_cls_dict(lmax=lmax, raw_cl=True)\n",
    "\n",
    "# factor transforming convergence to shear\n",
    "ell = np.arange(lmax + 1)\n",
    "fl = (ell + 2) * (ell + 1) * ell * (ell - 1) / np.clip(ell**2 * (ell + 1) ** 2, 1, None)\n",
    "\n",
    "# the noise level from discrete observations with shape noise\n",
    "ntot = nbar * npix\n",
    "nl = 4 * np.pi / ntot * sigma_e**2 * (ell >= 2)\n",
    "\n",
    "# mixing matrix for uniform distribution of points\n",
    "mm = (1 - 1 / ntot) * np.eye(lmax + 1, lmax + 1) + (ell + 1 / 2) / ntot\n",
    "mm[:2, :] = mm[:, :2] = 0\n",
    "\n",
    "# the shear pixel window function for HEALPix\n",
    "_, pw = hp.pixwin(nside, lmax=lmax, pol=True)\n",
    "\n",
    "# plot the realised and expected cls\n",
    "plt.plot(ell, cls[1] - nl, \"-k\", lw=2, label=\"simulation\")\n",
    "plt.plot(ell, pw**2 * mm @ (fl * theory_cls[\"W1xW1\"]), \"-r\", lw=2, label=\"expectation\")\n",
    "plt.xscale(\"symlog\", linthresh=10, linscale=0.5, subs=[2, 3, 4, 5, 6, 7, 8, 9])\n",
    "plt.yscale(\"symlog\", linthresh=1e-9, linscale=0.5, subs=[2, 3, 4, 5, 6, 7, 8, 9])\n",
    "plt.xlabel(\"angular mode number $l$\")\n",
    "plt.ylabel(\"angular power spectrum $C_l^{EE}$\")\n",
    "plt.legend(frameon=False)\n",
    "plt.tight_layout()\n",
    "plt.show()"
   ]
  }
 ],
 "metadata": {
  "kernelspec": {
   "display_name": "Python 3 (ipykernel)",
   "language": "python",
   "name": "python3"
  },
  "language_info": {
   "codemirror_mode": {
    "name": "ipython",
    "version": 3
   },
   "file_extension": ".py",
   "mimetype": "text/x-python",
   "name": "python",
   "nbconvert_exporter": "python",
   "pygments_lexer": "ipython3",
   "version": "3.13.2"
  }
 },
 "nbformat": 4,
 "nbformat_minor": 4
}
