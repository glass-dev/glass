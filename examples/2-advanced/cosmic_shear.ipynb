{
 "cells": [
  {
   "cell_type": "markdown",
   "metadata": {},
   "source": [
    "\n",
    "# Galaxy shear\n",
    "\n",
    "This example simulates a galaxy catalogue with shears affected by weak lensing,\n",
    "combining the :doc:`/basic/plot_density` and :doc:`/basic/plot_lensing` examples\n",
    "with generators for the intrinsic galaxy ellipticity and the resulting shear.\n"
   ]
  },
  {
   "cell_type": "markdown",
   "metadata": {},
   "source": [
    "## Setup\n",
    "The setup of galaxies and weak lensing fields is the same as in the basic\n",
    "examples.  We reuse the precomputed angular matter power spectra from the\n",
    ":doc:`/basic/shells` example, and we set up the same CAMB cosmology to obtain\n",
    "the ``cosmo`` object.\n",
    "\n"
   ]
  },
  {
   "cell_type": "code",
   "execution_count": 1,
   "metadata": {
    "collapsed": false,
    "execution": {
     "iopub.execute_input": "2024-09-06T16:01:00.777474Z",
     "iopub.status.busy": "2024-09-06T16:01:00.777139Z",
     "iopub.status.idle": "2024-09-06T16:01:01.488332Z",
     "shell.execute_reply": "2024-09-06T16:01:01.488110Z"
    }
   },
   "outputs": [],
   "source": [
    "import numpy as np\n",
    "import healpy as hp\n",
    "import matplotlib.pyplot as plt\n",
    "\n",
    "# use the CAMB cosmology that generated the matter power spectra\n",
    "import camb\n",
    "from cosmology import Cosmology\n",
    "\n",
    "# GLASS modules: cosmology and everything in the glass namespace\n",
    "import glass.shells\n",
    "import glass.fields\n",
    "import glass.points\n",
    "import glass.shapes\n",
    "import glass.lensing\n",
    "import glass.galaxies\n",
    "from glass.core.constants import ARCMIN2_SPHERE\n",
    "\n",
    "\n",
    "# cosmology for the simulation\n",
    "h = 0.7\n",
    "Oc = 0.25\n",
    "Ob = 0.05\n",
    "\n",
    "# basic parameters of the simulation\n",
    "nside = lmax = 256\n",
    "\n",
    "# set up CAMB parameters for matter angular power spectrum\n",
    "pars = camb.set_params(H0=100*h, omch2=Oc*h**2, ombh2=Ob*h**2,\n",
    "                       NonLinear=camb.model.NonLinear_both)\n",
    "\n",
    "# get the cosmology from CAMB\n",
    "cosmo = Cosmology.from_camb(pars)\n",
    "\n",
    "# shells of 200 Mpc in comoving distance spacing\n",
    "zb = glass.shells.distance_grid(cosmo, 0., 1., dx=200.)\n",
    "\n",
    "# tophat window function for shells\n",
    "ws = glass.shells.tophat_windows(zb)\n",
    "\n",
    "# load the angular matter power spectra previously computed with CAMB\n",
    "cls = np.load('../1-basic/cls.npy')"
   ]
  },
  {
   "cell_type": "markdown",
   "metadata": {},
   "source": [
    "## Matter\n",
    "\n"
   ]
  },
  {
   "cell_type": "code",
   "execution_count": 2,
   "metadata": {
    "collapsed": false,
    "execution": {
     "iopub.execute_input": "2024-09-06T16:01:01.489713Z",
     "iopub.status.busy": "2024-09-06T16:01:01.489593Z",
     "iopub.status.idle": "2024-09-06T16:01:01.571022Z",
     "shell.execute_reply": "2024-09-06T16:01:01.570772Z"
    }
   },
   "outputs": [],
   "source": [
    "# compute Gaussian cls for lognormal fields for 3 correlated shells\n",
    "# putting nside here means that the HEALPix pixel window function is applied\n",
    "gls = glass.fields.lognormal_gls(cls, nside=nside, lmax=lmax, ncorr=3)\n",
    "\n",
    "# generator for lognormal matter fields\n",
    "matter = glass.fields.generate_lognormal(gls, nside, ncorr=3)"
   ]
  },
  {
   "cell_type": "markdown",
   "metadata": {},
   "source": [
    "## Lensing\n",
    "\n"
   ]
  },
  {
   "cell_type": "code",
   "execution_count": 3,
   "metadata": {
    "collapsed": false,
    "execution": {
     "iopub.execute_input": "2024-09-06T16:01:01.572172Z",
     "iopub.status.busy": "2024-09-06T16:01:01.572107Z",
     "iopub.status.idle": "2024-09-06T16:01:01.573531Z",
     "shell.execute_reply": "2024-09-06T16:01:01.573325Z"
    }
   },
   "outputs": [],
   "source": [
    "# this will compute the convergence field iteratively\n",
    "convergence = glass.lensing.MultiPlaneConvergence(cosmo)"
   ]
  },
  {
   "cell_type": "markdown",
   "metadata": {},
   "source": [
    "## Galaxy\n",
    "\n"
   ]
  },
  {
   "cell_type": "code",
   "execution_count": 4,
   "metadata": {
    "collapsed": false,
    "execution": {
     "iopub.execute_input": "2024-09-06T16:01:01.574612Z",
     "iopub.status.busy": "2024-09-06T16:01:01.574554Z",
     "iopub.status.idle": "2024-09-06T16:01:01.576169Z",
     "shell.execute_reply": "2024-09-06T16:01:01.575984Z"
    }
   },
   "outputs": [],
   "source": [
    "# standard deviation in each component of galaxy ellipticity\n",
    "# this is very small so that the galaxy density can be small, too\n",
    "sigma_e = 0.01\n",
    "\n",
    "# galaxy number density per arcmin2, over all shells\n",
    "n_arcmin2 = 0.01\n",
    "\n",
    "# localised redshift distribution with the given density\n",
    "z = np.arange(0., 2., 0.01)\n",
    "dndz = np.exp(-(z - 0.5)**2/(0.1)**2)\n",
    "dndz *= n_arcmin2/np.trapz(dndz, z)"
   ]
  },
  {
   "cell_type": "markdown",
   "metadata": {},
   "source": [
    "## Simulation\n",
    "Simulate the galaxies with shears.  In each iteration, get the shears and map\n",
    "them to a HEALPix map for later analysis.\n",
    "\n",
    "In addition, generate the galaxy ellipticities, drawn from the intrinsic\n",
    "normal distribution.  The standard deviation is much too small to be\n",
    "realistic, but enables the example to get away with fewer total galaxies.\n",
    "\n",
    "Finally, apply the reduced shear from the lensing maps to the galaxy\n",
    "ellipticities, producing the galaxy shears.\n",
    "\n"
   ]
  },
  {
   "cell_type": "code",
   "execution_count": 5,
   "metadata": {
    "collapsed": false,
    "execution": {
     "iopub.execute_input": "2024-09-06T16:01:01.577130Z",
     "iopub.status.busy": "2024-09-06T16:01:01.577041Z",
     "iopub.status.idle": "2024-09-06T16:01:04.377503Z",
     "shell.execute_reply": "2024-09-06T16:01:04.377192Z"
    }
   },
   "outputs": [],
   "source": [
    "# number of HEALPix pixels in the maps\n",
    "npix = 12*nside**2\n",
    "\n",
    "# map for galaxy numbers\n",
    "num = np.zeros(npix)\n",
    "\n",
    "# map for sum of shears\n",
    "she = np.zeros(npix, dtype=complex)\n",
    "\n",
    "# simulate the matter fields in the main loop\n",
    "for i, delta_i in enumerate(matter):\n",
    "\n",
    "    # compute the lensing maps for this shell\n",
    "    convergence.add_window(delta_i, ws[i])\n",
    "    kappa_i = convergence.kappa\n",
    "    gamm1_i, gamm2_i = glass.lensing.shear_from_convergence(kappa_i)\n",
    "\n",
    "    # true galaxy redshift distribution in this shell\n",
    "    z_i, dndz_i = glass.shells.restrict(z, dndz, ws[i])\n",
    "\n",
    "    # galaxy density in this shell\n",
    "    ngal = np.trapz(dndz_i, z_i)\n",
    "\n",
    "    # generate galaxy positions uniformly over the sphere\n",
    "    for gal_lon, gal_lat, gal_count in glass.points.uniform_positions(ngal):\n",
    "\n",
    "        # generate galaxy ellipticities from the chosen distribution\n",
    "        gal_eps = glass.shapes.ellipticity_intnorm(gal_count, sigma_e)\n",
    "\n",
    "        # apply the shear fields to the ellipticities\n",
    "        gal_she = glass.galaxies.galaxy_shear(gal_lon, gal_lat, gal_eps,\n",
    "                                            kappa_i, gamm1_i, gamm2_i)\n",
    "\n",
    "        # map the galaxy shears to a HEALPix map; this is opaque but works\n",
    "        gal_pix = hp.ang2pix(nside, gal_lon, gal_lat, lonlat=True)\n",
    "        s = np.argsort(gal_pix)\n",
    "        pix, start, count = np.unique(gal_pix[s], return_index=True, return_counts=True)\n",
    "        num[pix] += count\n",
    "        she[pix] += list(map(np.sum, np.split(gal_she[s], start[1:])))"
   ]
  },
  {
   "cell_type": "markdown",
   "metadata": {},
   "source": [
    "## Analysis\n",
    "Compute the angular power spectrum of the observed galaxy shears.  To compare\n",
    "with the expectation, take into account the expected noise level due to shape\n",
    "noise, and the expected mixing matrix for a uniform distribution of points.\n",
    "\n"
   ]
  },
  {
   "cell_type": "code",
   "execution_count": 6,
   "metadata": {
    "collapsed": false,
    "execution": {
     "iopub.execute_input": "2024-09-06T16:01:04.378883Z",
     "iopub.status.busy": "2024-09-06T16:01:04.378808Z",
     "iopub.status.idle": "2024-09-06T16:01:05.140024Z",
     "shell.execute_reply": "2024-09-06T16:01:05.139554Z"
    }
   },
   "outputs": [
    {
     "data": {
      "image/png": "[encoded data removed]",
      "text/plain": [
       "<Figure size 640x480 with 1 Axes>"
      ]
     },
     "metadata": {},
     "output_type": "display_data"
    }
   ],
   "source": [
    "# compute the expected number of galaxies in each pixel\n",
    "nbar = ARCMIN2_SPHERE/npix*n_arcmin2\n",
    "\n",
    "# normalise the maps by the expected number of galaxies in each pixel\n",
    "she /= nbar\n",
    "num /= nbar\n",
    "\n",
    "# get the angular power spectra from the galaxy shears\n",
    "cls = hp.anafast([num, she.real, she.imag], pol=True, lmax=lmax, use_pixel_weights=True)\n",
    "\n",
    "# get the theory cls from CAMB\n",
    "pars.NonLinear = 'NonLinear_both'\n",
    "pars.Want_CMB = False\n",
    "pars.min_l = 1\n",
    "pars.set_for_lmax(lmax)\n",
    "pars.SourceWindows = [camb.sources.SplinedSourceWindow(z=z, W=dndz, source_type='lensing')]\n",
    "theory_cls = camb.get_results(pars).get_source_cls_dict(lmax=lmax, raw_cl=True)\n",
    "\n",
    "# factor transforming convergence to shear\n",
    "l = np.arange(lmax+1)\n",
    "fl = (l+2)*(l+1)*l*(l-1)/np.clip(l**2*(l+1)**2, 1, None)\n",
    "\n",
    "# the noise level from discrete observations with shape noise\n",
    "nl = 4*np.pi/(nbar*npix)*sigma_e**2 * (l >= 2)\n",
    "\n",
    "# mixing matrix for uniform distribution of points\n",
    "mm = (1 - 1/(nbar*npix))*np.eye(lmax+1, lmax+1) + (l+1/2)/(nbar*npix)\n",
    "mm[:2, :] = mm[:, :2] = 0\n",
    "\n",
    "# the shear pixel window function for HEALPix\n",
    "_, pw = hp.pixwin(nside, lmax=lmax, pol=True)\n",
    "\n",
    "# plot the realised and expected cls\n",
    "plt.plot(l, cls[1] - nl, '-k', lw=2, label='simulation')\n",
    "plt.plot(l, pw**2 * mm@(fl*theory_cls['W1xW1']), '-r', lw=2, label='expectation')\n",
    "plt.xscale('symlog', linthresh=10, linscale=0.5, subs=[2, 3, 4, 5, 6, 7, 8, 9])\n",
    "plt.yscale('symlog', linthresh=1e-9, linscale=0.5, subs=[2, 3, 4, 5, 6, 7, 8, 9])\n",
    "plt.xlabel('angular mode number $l$')\n",
    "plt.ylabel('angular power spectrum $C_l^{EE}$')\n",
    "plt.legend(frameon=False)\n",
    "plt.tight_layout()\n",
    "plt.show()"
   ]
  }
 ],
 "metadata": {
  "kernelspec": {
   "display_name": "Python 3",
   "language": "python",
   "name": "python3"
  },
  "language_info": {
   "codemirror_mode": {
    "name": "ipython",
    "version": 3
   },
   "file_extension": ".py",
   "mimetype": "text/x-python",
   "name": "python",
   "nbconvert_exporter": "python",
   "pygments_lexer": "ipython3",
   "version": "3.12.3"
  }
 },
 "nbformat": 4,
 "nbformat_minor": 0
}
