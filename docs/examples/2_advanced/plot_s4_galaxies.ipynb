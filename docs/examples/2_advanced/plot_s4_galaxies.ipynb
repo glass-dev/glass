{
  "cells": [
    {
      "cell_type": "code",
      "execution_count": null,
      "metadata": {
        "collapsed": false
      },
      "outputs": [],
      "source": [
        "%matplotlib inline"
      ]
    },
    {
      "cell_type": "markdown",
      "metadata": {},
      "source": [
        "\n# Stage IV Galaxy Survey\n\nThis example simulates a galaxy catalogue from a Stage IV Space Satellite Galaxy\nSurvey such as *Euclid* and *Roman* combining the\n`sphx_glr_examples_1_basic_plot_density.py` and\n`sphx_glr_examples_1_basic_plot_lensing.py` examples with generators for\nthe intrinsic galaxy ellipticity and the resulting shear with some auxiliary\nfunctions.\n\nThe focus in this example is mock catalogue generation using auxiliary functions\nbuilt for simulating Stage IV galaxy surveys.\n"
      ]
    },
    {
      "cell_type": "markdown",
      "metadata": {},
      "source": [
        "## Setup\nThe basic setup of galaxies and weak lensing fields is the same as in the\nprevious examples.\n\nIn addition to a generator for intrinsic galaxy ellipticities,\nfollowing a normal distribution, we also show how to use auxiliary functions\nto generate tomographic redshift distributions and visibility masks.\n\nFinally, there is a generator that applies the reduced shear from the lensing\nmaps to the intrinsic ellipticities, producing the galaxy shears.\n\n"
      ]
    },
    {
      "cell_type": "code",
      "execution_count": null,
      "metadata": {
        "collapsed": false
      },
      "outputs": [],
      "source": [
        "import numpy as np\nimport healpy as hp\nimport matplotlib.pyplot as plt\n\n# these are the GLASS imports: cosmology and the glass meta-module\nfrom cosmology import LCDM\nfrom glass import glass\n\n# also needs camb itself to get the parameter object\nimport camb\n\n# cosmology for the simulation\nh = 0.7\nOc = 0.25\nOb = 0.05\ncosmo = LCDM(h=h, Om=Oc+Ob)\n\n# basic parameters of the simulation\nnside = 512\nlmax = nside\n\n# comoving distance size in Mpc of each shell to integrate along the LoS:\ndx = 200\n\n# galaxy density (using 1/100 of the expected galaxy number density for Stage-IV)\nn_arcmin2 = 0.3\n\n# sigma_ellipticity as expected for a stage-IV survey\nsigma_e = 0.27\n\n# photometric redshift error\nsigma_z0 = 0.03\n\n# set up CAMB parameters for matter angular power spectrum\npars = camb.set_params(H0=100*h, omch2=Oc*h**2, ombh2=Ob*h**2)"
      ]
    },
    {
      "cell_type": "markdown",
      "metadata": {},
      "source": [
        "## Simulation Setup\nHere we setup the overall source redshift distribution\nand separate it into equal density tomographic bins\nwith the typical redshift errors of a photometric survey.\n\n"
      ]
    },
    {
      "cell_type": "code",
      "execution_count": null,
      "metadata": {
        "collapsed": false
      },
      "outputs": [],
      "source": [
        "# setting up the random number generator:\nrng = np.random.default_rng(seed=42)\n\n# true redshift distribution following a Smail distribution\nz = np.linspace(0, 3, 1000)\ndndz = glass.observations.smail_nz(z, z_mode=0.9, alpha=2., beta=1.5)\ndndz *= n_arcmin2\nbz = 1.2\n\n# compute bin edges with equal density\n# then make tomographic bins, assuming photometric redshift errors\nnbins = 10\nzedges = glass.observations.equal_dens_zbins(z, dndz, nbins=nbins)\nbin_nz = glass.observations.tomo_nz_gausserr(z, dndz, sigma_z0, zedges)"
      ]
    },
    {
      "cell_type": "markdown",
      "metadata": {},
      "source": [
        "Plotting the overall redshift distribution and the\ndistribution for each of the equal density tomographic bins\n\n"
      ]
    },
    {
      "cell_type": "code",
      "execution_count": null,
      "metadata": {
        "collapsed": false
      },
      "outputs": [],
      "source": [
        "plt.figure()\nplt.title('redshift distributions')\nsum_nz = np.zeros_like(bin_nz[0])\nfor nz in bin_nz:\n    plt.fill_between(z, nz, alpha=0.5)\n    sum_nz = sum_nz + nz\nplt.fill_between(z, dndz, alpha=0.2, label='dn/dz')\nplt.plot(z, sum_nz, ls='--', label=\"Sum of the bins\")\nplt.ylabel(\"dN/dz - gal/arcmin2\")\nplt.xlabel(\"z\")\nplt.legend()\nplt.tight_layout()\nplt.show()"
      ]
    },
    {
      "cell_type": "markdown",
      "metadata": {},
      "source": [
        "Make a visibility map typical of a space telescope survey, seeing both\nhemispheres, and low visibility in the galactic and ecliptic bands.\n\n"
      ]
    },
    {
      "cell_type": "code",
      "execution_count": null,
      "metadata": {
        "collapsed": false
      },
      "outputs": [],
      "source": [
        "vis = glass.observations.vmap_galactic_ecliptic(nside)\n\n# checking the mask:\nhp.mollview(vis, title='Stage IV Space Survey-like Mask', unit='Visibility')\nplt.show()"
      ]
    },
    {
      "cell_type": "markdown",
      "metadata": {},
      "source": [
        "generators for the clustering and lensing\n\n"
      ]
    },
    {
      "cell_type": "code",
      "execution_count": null,
      "metadata": {
        "collapsed": false
      },
      "outputs": [],
      "source": [
        "generators = [\n    glass.sim.xspace(cosmo, 0., 3., dx=dx),\n    glass.matter.mat_wht_redshift(),\n    glass.camb.camb_matter_cl(pars, lmax),\n    glass.matter.lognormal_matter(nside, rng=rng),\n    glass.lensing.convergence(cosmo),\n    glass.lensing.shear(lmax),\n    glass.observations.vis_constant(vis, nside=nside),\n    glass.galaxies.gal_dist_fullsky(z, bin_nz, bz=bz, rng=rng),\n    glass.galaxies.gal_ellip_gaussian(sigma_e, rng=rng),\n    glass.galaxies.gal_shear_interp(cosmo),\n]"
      ]
    },
    {
      "cell_type": "markdown",
      "metadata": {},
      "source": [
        "## Simulation\nSimulate the galaxies with shears.  In each iteration, get the quantities of interest\nto build our mock catalogue.\n\n"
      ]
    },
    {
      "cell_type": "code",
      "execution_count": null,
      "metadata": {
        "collapsed": false
      },
      "outputs": [],
      "source": [
        "# we will store the catalogue as a dictionary:\ncatalogue = {'RA': np.array([]), 'DEC': np.array([]), 'TRUE_Z': np.array([]),\n             'E1': np.array([]), 'E2': np.array([]), 'TOMO_ID': np.array([])}\n\n# iterate and store the quantities of interest for our mock catalogue:\nfor shell in glass.sim.generate(generators):\n    # let's assume here that lon lat here are RA and DEC:\n    catalogue['RA'] = np.append(catalogue['RA'], shell['gal_lon'])\n    catalogue['DEC'] = np.append(catalogue['DEC'], shell['gal_lat'])\n    catalogue['TRUE_Z'] = np.append(catalogue['TRUE_Z'], shell['gal_z'])\n    catalogue['E1'] = np.append(catalogue['E1'], shell['gal_ell'].real)\n    catalogue['E2'] = np.append(catalogue['E2'], shell['gal_ell'].imag)\n    catalogue['TOMO_ID'] = np.append(catalogue['TOMO_ID'], shell['gal_pop'])\n\nprint(f\"Total Number of galaxies sampled: {len(catalogue['TRUE_Z']):,}\")"
      ]
    },
    {
      "cell_type": "markdown",
      "metadata": {},
      "source": [
        "## Catalogue checks\nHere we can perform some simple checks at the catalogue level to\nsee how our simulation performed.\n\n"
      ]
    },
    {
      "cell_type": "code",
      "execution_count": null,
      "metadata": {
        "collapsed": false
      },
      "outputs": [],
      "source": [
        "# redshift distribution of tomographic bins & input distributions\nplt.figure()\nplt.title('redshifts in catalogue')\nplt.ylabel(\"dN/dz - normalised\")\nplt.xlabel(\"z\")\nfor i in range(0, 10):\n    plt.hist(catalogue['TRUE_Z'][catalogue['TOMO_ID'] == i], histtype='stepfilled', edgecolor='none', alpha=0.5, bins=50, density=1, label=f'cat. bin {i}')\nfor i in range(0, 10):\n    plt.plot(z, (bin_nz[i]/n_arcmin2)*nbins, alpha=0.5, label=f'inp. bin {i}')\nplt.plot(z, dndz/n_arcmin2*nbins, ls='--', c='k')\nplt.legend(ncol=2)\nplt.show()"
      ]
    }
  ],
  "metadata": {
    "kernelspec": {
      "display_name": "Python 3",
      "language": "python",
      "name": "python3"
    },
    "language_info": {
      "codemirror_mode": {
        "name": "ipython",
        "version": 3
      },
      "file_extension": ".py",
      "mimetype": "text/x-python",
      "name": "python",
      "nbconvert_exporter": "python",
      "pygments_lexer": "ipython3",
      "version": "3.10.4"
    }
  },
  "nbformat": 4,
  "nbformat_minor": 0
}