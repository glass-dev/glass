{
  "cells": [
    {
      "cell_type": "code",
      "execution_count": null,
      "metadata": {
        "collapsed": false
      },
      "outputs": [],
      "source": [
        "%matplotlib inline"
      ]
    },
    {
      "cell_type": "markdown",
      "metadata": {},
      "source": [
        "\n# Galaxy shear\n\nThis example simulates a galaxy catalogue with shears affected by weak lensing,\ncombining the `sphx_glr_examples_1_basic_plot_density.py` and\n`sphx_glr_examples_1_basic_plot_lensing.py` examples with generators for\nthe intrinsic galaxy ellipticity and the resulting shear.\n"
      ]
    },
    {
      "cell_type": "markdown",
      "metadata": {},
      "source": [
        "## Setup\nThe basic setup of galaxies and weak lensing fields is the same as in the\nprevious examples.\n\nIn addition, there is a generator for intrinsic galaxy ellipticities,\nfollowing a normal distribution.  The standard deviation is much too small to\nbe realistic, but enables the example to get away with fewer total galaxies.\n\nFinally, there is a generator that applies the reduced shear from the lensing\nmaps to the intrinsic ellipticities, producing the galaxy shears.\n\n"
      ]
    },
    {
      "cell_type": "code",
      "execution_count": null,
      "metadata": {
        "collapsed": false
      },
      "outputs": [],
      "source": [
        "import numpy as np\nimport healpy as hp\nimport matplotlib.pyplot as plt\n\n# these are the GLASS imports: cosmology and the glass meta-module\nfrom cosmology import LCDM\nfrom glass import glass\n\n# also needs camb itself to get the parameter object, and the expectation\nimport camb\n\n\n# cosmology for the simulation\nh = 0.7\nOc = 0.25\nOb = 0.05\ncosmo = LCDM(h=h, Om=Oc+Ob)\n\n# basic parameters of the simulation\nnside = 512\nlmax = nside\n\n# the intrinsic galaxy ellipticity\n# this is very small so that the galaxy density can be small, too\nsigma_e = 0.01\n\n# galaxy density\nn_arcmin2 = 0.01\n\n# localised redshift distribution with the given density\nz = np.linspace(0, 1, 101)\ndndz = np.exp(-(z - 0.5)**2/(0.1)**2)\ndndz *= n_arcmin2/np.trapz(dndz, z)\n\n# set up CAMB parameters for matter angular power spectrum\npars = camb.set_params(H0=100*h, omch2=Oc*h**2, ombh2=Ob*h**2)\n\n# generators for lensing and galaxies\ngenerators = [\n    glass.sim.zspace(0, 1., dz=0.1),\n    glass.matter.mat_wht_redshift(),\n    glass.camb.camb_matter_cl(pars, lmax),\n    glass.matter.lognormal_matter(nside),\n    glass.lensing.convergence(cosmo),\n    glass.lensing.shear(),\n    glass.galaxies.gal_dist_uniform(z, dndz),\n    glass.galaxies.gal_ellip_gaussian(sigma_e),\n    glass.galaxies.gal_shear_interp(cosmo),\n]"
      ]
    },
    {
      "cell_type": "markdown",
      "metadata": {},
      "source": [
        "## Simulation\nSimulate the galaxies with shears.  In each iteration, get the shears and map\nthem to a HEALPix map for later analysis.\n\n"
      ]
    },
    {
      "cell_type": "code",
      "execution_count": null,
      "metadata": {
        "collapsed": false
      },
      "outputs": [],
      "source": [
        "# map for sum of shears\nshe = np.zeros(hp.nside2npix(nside), dtype=complex)\n\n# keep count of total number of galaxies\nnum = np.zeros_like(she, dtype=int)\n\n# iterate and map the galaxy shears to a HEALPix map\nfor it in glass.sim.generate(generators):\n    gal_lon, gal_lat = it['gal_lon'], it['gal_lat']\n    gal_she = it['gal_she']\n\n    gal_pix = hp.ang2pix(nside, gal_lon, gal_lat, lonlat=True)\n    s = np.argsort(gal_pix)\n    pix, start, count = np.unique(gal_pix[s], return_index=True, return_counts=True)\n    she[pix] += list(map(np.sum, np.split(gal_she[s], start[1:])))\n    num[pix] += count"
      ]
    },
    {
      "cell_type": "markdown",
      "metadata": {},
      "source": [
        "## Analysis\nCompute the angular power spectrum of the observed galaxy shears.  To compare\nwith the expectation, take into account the expected noise level due to shape\nnoise, and the expected mixing matrix for a uniform distribution of points.\n\n"
      ]
    },
    {
      "cell_type": "code",
      "execution_count": null,
      "metadata": {
        "collapsed": false
      },
      "outputs": [],
      "source": [
        "# get the angular power spectra from the galaxy shears\ncls = hp.anafast([num, she.real, she.imag], pol=True, lmax=lmax, use_pixel_weights=True)\n\n# get the theory cls from CAMB\npars.NonLinear = 'NonLinear_both'\npars.Want_CMB = False\npars.min_l = 1\npars.set_for_lmax(lmax)\npars.SourceWindows = [camb.sources.SplinedSourceWindow(z=z, W=dndz, source_type='lensing')]\ntheory_cls = camb.get_results(pars).get_source_cls_dict(lmax=lmax, raw_cl=True)\n\n# factor transforming convergence to shear\nl = np.arange(lmax+1)\nfl = (l+2)*(l+1)*l*(l-1)/np.clip(l**2*(l+1)**2, 1, None)\n\n# number of arcmin2 in sphere\nARCMIN2_SPHERE = 60**6//100/np.pi\n\n# will need number of pixels in map for the expectation\nnpix = len(she)\n\n# compute the mean number of shears per pixel\nnbar = ARCMIN2_SPHERE/npix*n_arcmin2\n\n# the noise level from discrete observations with shape noise\nnl = 4*np.pi*nbar/npix*sigma_e**2 * (l >= 2)\n\n# mixing matrix for uniform distribution of points\nmm = (nbar**2 - nbar/(npix-1))*np.eye(lmax+1, lmax+1) + (2*l+1)*nbar/(npix-1)/2\nmm[:2, :] = mm[:, :2] = 0\n\n# plot the realised and expected cls\nplt.plot(l, cls[1] - nl, '-k', lw=2, label='simulation')\nplt.plot(l, mm@(fl*theory_cls['W1xW1']), '-r', lw=2, label='expectation')\nplt.xscale('symlog', linthresh=10, linscale=0.5, subs=[2, 3, 4, 5, 6, 7, 8, 9])\nplt.yscale('symlog', linthresh=1e-9, linscale=0.5, subs=[2, 3, 4, 5, 6, 7, 8, 9])\nplt.xlabel('angular mode number $l$')\nplt.ylabel('angular power spectrum $C_l^{EE}$')\nplt.legend()\nplt.tight_layout()\nplt.show()"
      ]
    }
  ],
  "metadata": {
    "kernelspec": {
      "display_name": "Python 3",
      "language": "python",
      "name": "python3"
    },
    "language_info": {
      "codemirror_mode": {
        "name": "ipython",
        "version": 3
      },
      "file_extension": ".py",
      "mimetype": "text/x-python",
      "name": "python",
      "nbconvert_exporter": "python",
      "pygments_lexer": "ipython3",
      "version": "3.10.4"
    }
  },
  "nbformat": 4,
  "nbformat_minor": 0
}