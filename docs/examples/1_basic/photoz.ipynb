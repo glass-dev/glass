{
  "cells": [
    {
      "cell_type": "code",
      "execution_count": null,
      "metadata": {
        "collapsed": false
      },
      "outputs": [],
      "source": [
        "%matplotlib inline"
      ]
    },
    {
      "cell_type": "markdown",
      "metadata": {},
      "source": [
        "\n# Photometric redshifts\n\nThis example simulates galaxies with a simple photometric redshift model.\n"
      ]
    },
    {
      "cell_type": "markdown",
      "metadata": {},
      "source": [
        "## Setup\nThe simplest galaxies-only GLASS simulation, sampling galaxies uniformly over\nthe sphere using some redshift distribution.  Then add a model for photometric\nredshifts with Gaussian errors.\n\n"
      ]
    },
    {
      "cell_type": "code",
      "execution_count": null,
      "metadata": {
        "collapsed": false
      },
      "outputs": [],
      "source": [
        "import numpy as np\nimport matplotlib.pyplot as plt\n\n# these are the GLASS imports: only the glass meta-module\nfrom glass import glass\n\n\n# basic parameters of the simulation\nnside = 128\nlmax = nside\n\n# galaxy density\nn_arcmin2 = 1e-4\n\n# photometric redshift error at redshift 0\nphz_sigma_0 = 0.05\n\n# parametric galaxy redshift distribution\nz = np.linspace(0, 3, 301)\ndndz = n_arcmin2*glass.observations.smail_nz(z, 1.0, 2.2, 1.5)\n\n# generators for a uniform galaxies simulation\ngenerators = [\n    glass.sim.zspace(z[0], z[-1]+0.01, dz=0.25),\n    glass.galaxies.gal_dist_uniform(z, dndz),\n    glass.galaxies.gal_phz_gausserr(phz_sigma_0),\n]"
      ]
    },
    {
      "cell_type": "markdown",
      "metadata": {},
      "source": [
        "## Simulation\nKeep all simulated true and photometric redshifts.\n\n"
      ]
    },
    {
      "cell_type": "code",
      "execution_count": null,
      "metadata": {
        "collapsed": false
      },
      "outputs": [],
      "source": [
        "# arrays for true (ztrue) and photmetric (zphot) redshifts\nztrue = np.empty(0)\nzphot = np.empty(0)\n\n# simulate and add galaxies in each matter shell to arrays\nfor shell in glass.sim.generate(generators):\n    ztrue = np.append(ztrue, shell['gal_z'])\n    zphot = np.append(zphot, shell['gal_z_phot'])"
      ]
    },
    {
      "cell_type": "markdown",
      "metadata": {},
      "source": [
        "## Plots\nMake a couple of typical photometric redshift plots.\n\nFirst the $z$-vs-$z$ plot across the entire sample.  The simple\nGaussian error model only has the diagonal but no catastrophic outliers.\n\n"
      ]
    },
    {
      "cell_type": "code",
      "execution_count": null,
      "metadata": {
        "collapsed": false
      },
      "outputs": [],
      "source": [
        "plt.figure(figsize=(5, 5))\nplt.plot(ztrue, zphot, '+k', ms=3, alpha=0.1)\nplt.xlabel(r'$z_{\\rm true}$', size=12)\nplt.ylabel(r'$z_{\\rm phot}$', size=12)\nplt.show()"
      ]
    },
    {
      "cell_type": "markdown",
      "metadata": {},
      "source": [
        "Now define a number of photometric redshift bins.  They are chosen by the\n:func:`~glass.observations.equal_dens_zbins` function to produce the same\nnumber of galaxies in each bin.\n\n"
      ]
    },
    {
      "cell_type": "code",
      "execution_count": null,
      "metadata": {
        "collapsed": false
      },
      "outputs": [],
      "source": [
        "nbins = 5\nzbins = glass.observations.equal_dens_zbins(z, dndz, nbins)"
      ]
    },
    {
      "cell_type": "markdown",
      "metadata": {},
      "source": [
        "After the photometric bins are defined, make histograms of the *true* redshift\ndistribution $n(z)$ using the *photometric* redshifts for binning.  Use\nthe :func:`~glass.observations.tomo_nz_gausserr()` function to also plot the\nexpected tomographic redshift distributions with the same model.\n\n"
      ]
    },
    {
      "cell_type": "code",
      "execution_count": null,
      "metadata": {
        "collapsed": false
      },
      "outputs": [],
      "source": [
        "tomo_nz = glass.observations.tomo_nz_gausserr(z, dndz, phz_sigma_0, zbins)\ntomo_nz *= glass.util.ARCMIN2_SPHERE*(z[-1] - z[0])/40\n\nfor (z1, z2), nz in zip(zbins, tomo_nz):\n    plt.hist(ztrue[(z1 <= zphot) & (zphot < z2)], bins=40, range=(z[0], z[-1]),\n             histtype='stepfilled', alpha=0.5)\n    plt.plot(z, nz, '-k', lw=1, alpha=0.5)\nplt.xlabel('true redshift $z$')\nplt.ylabel('number of galaxies')\nplt.show()"
      ]
    }
  ],
  "metadata": {
    "kernelspec": {
      "display_name": "Python 3",
      "language": "python",
      "name": "python3"
    },
    "language_info": {
      "codemirror_mode": {
        "name": "ipython",
        "version": 3
      },
      "file_extension": ".py",
      "mimetype": "text/x-python",
      "name": "python",
      "nbconvert_exporter": "python",
      "pygments_lexer": "ipython3",
      "version": "3.9.7"
    }
  },
  "nbformat": 4,
  "nbformat_minor": 0
}