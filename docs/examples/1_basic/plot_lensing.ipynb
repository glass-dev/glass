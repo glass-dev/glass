{
  "cells": [
    {
      "cell_type": "code",
      "execution_count": null,
      "metadata": {
        "collapsed": false
      },
      "outputs": [],
      "source": [
        "%matplotlib inline"
      ]
    },
    {
      "cell_type": "markdown",
      "metadata": {},
      "source": [
        "\n# Weak lensing\n\nThis example computes weak lensing maps (convergence and shear) for a redshift\ndistribution of sources.  The lensing is simulated by a line of sight\nintegration of the matter fields.\n"
      ]
    },
    {
      "cell_type": "markdown",
      "metadata": {},
      "source": [
        "## Setup\nTo the simulate lensing fields in each shell of the light cone, it suffices to\ngenerate random (e.g. lognormal) matter fields, and perform a line of sight\nintegration to obtain the convergence field.  The shear field is readily\ncomputed from there.\n\nFrom there, it is possible to obtain the effective integrated lensing maps of\na distribution of sources.  Given such a distribution, which is set up here at\nthe top, the :func:`glass.lensing.lensing_dist` generator will iteratively\ncollect and integrate the contributions to the lensing from each shell.\n\n"
      ]
    },
    {
      "cell_type": "code",
      "execution_count": null,
      "metadata": {
        "collapsed": false
      },
      "outputs": [],
      "source": [
        "import numpy as np\nimport healpy as hp\nimport matplotlib.pyplot as plt\n\n# these are the GLASS imports: cosmology, glass modules, and the CAMB module\nfrom cosmology import LCDM\nimport glass.sim\nimport glass.camb\nimport glass.matter\nimport glass.lensing\n\n# also needs camb itself to get the parameter object, and the expectation\nimport camb\n\n\n# cosmology for the simulation\ncosmo = LCDM(h=0.7, Om=0.3)\n\n# basic parameters of the simulation\nnside = 512\nlmax = nside\n\n# localised redshift distribution\nz = np.linspace(0, 1, 101)\nnz = np.exp(-(z - 0.5)**2/(0.1)**2)\n\n# set up CAMB parameters for matter angular power spectrum\npars = camb.set_params(H0=100*cosmo.h, omch2=cosmo.Om*cosmo.h**2,\n                       NonLinear=camb.model.NonLinear_both)\n\n# generators for a lensing-only simulation\ngenerators = [\n    glass.sim.zspace(0, 1.01, dz=0.1),\n    glass.camb.camb_matter_cl(pars, lmax),\n    glass.matter.lognormal_matter(nside),\n    glass.lensing.convergence(cosmo),\n    glass.lensing.shear(),\n    glass.lensing.lensing_dist(z, nz, cosmo),\n]"
      ]
    },
    {
      "cell_type": "markdown",
      "metadata": {},
      "source": [
        "## Simulation\nThe simulation is then straightforward:  Only the integrated lensing maps are\nstored here.  While the simulation returns the result after every redshift\ninterval in the light cone, only the last result will be show below, so the\nprevious values are not kept.\n\n"
      ]
    },
    {
      "cell_type": "code",
      "execution_count": null,
      "metadata": {
        "collapsed": false
      },
      "outputs": [],
      "source": [
        "# simulate and store the integrated lensing maps\nfor shell in glass.sim.generate(generators):\n    kappa = shell['kappa_bar']\n    gamma1 = shell['gamma1_bar']\n    gamma2 = shell['gamma2_bar']"
      ]
    },
    {
      "cell_type": "markdown",
      "metadata": {},
      "source": [
        "## Analysis\nTo make sure the simulation works, compute the angular power spectrum ``cls``\nof the simulated convergence field, and compare with the expectation (from\nCAMB) for the given redshift distribution of sources.\n\n"
      ]
    },
    {
      "cell_type": "code",
      "execution_count": null,
      "metadata": {
        "collapsed": false
      },
      "outputs": [],
      "source": [
        "# get the angular power spectra of the lensing maps\ncls = hp.anafast([kappa, gamma1, gamma2], pol=True, lmax=lmax)\n\n# get the expected cls from CAMB\npars.Want_CMB = False\npars.min_l = 1\npars.SourceWindows = [camb.sources.SplinedSourceWindow(z=z, W=nz, source_type='lensing')]\ntheory_cls = camb.get_results(pars).get_source_cls_dict(lmax=lmax, raw_cl=True)\n\n# plot the realised and expected cls\nl = np.arange(lmax+1)\nplt.plot(l, (2*l+1)*cls[0], '-k', lw=2, label='simulation')\nplt.plot(l, (2*l+1)*theory_cls['W1xW1'], '-r', lw=2, label='expectation')\nplt.xscale('symlog', linthresh=10, linscale=0.5, subs=[2, 3, 4, 5, 6, 7, 8, 9])\nplt.yscale('symlog', linthresh=1e-7, linscale=0.5, subs=[2, 3, 4, 5, 6, 7, 8, 9])\nplt.xlabel(r'angular mode number $l$')\nplt.ylabel(r'angular power spectrum $(2l+1) \\, C_l^{\\kappa\\kappa}$')\nplt.legend()\nplt.show()"
      ]
    }
  ],
  "metadata": {
    "kernelspec": {
      "display_name": "Python 3",
      "language": "python",
      "name": "python3"
    },
    "language_info": {
      "codemirror_mode": {
        "name": "ipython",
        "version": 3
      },
      "file_extension": ".py",
      "mimetype": "text/x-python",
      "name": "python",
      "nbconvert_exporter": "python",
      "pygments_lexer": "ipython3",
      "version": "3.9.7"
    }
  },
  "nbformat": 4,
  "nbformat_minor": 0
}