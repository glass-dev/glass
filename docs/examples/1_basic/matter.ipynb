{
  "cells": [
    {
      "cell_type": "code",
      "execution_count": null,
      "metadata": {
        "collapsed": false
      },
      "outputs": [],
      "source": [
        "%matplotlib inline"
      ]
    },
    {
      "cell_type": "markdown",
      "metadata": {},
      "source": [
        "\n# Matter distribution\n\nThis example simulates only the matter field in nested shells up to redshift 1.\n"
      ]
    },
    {
      "cell_type": "markdown",
      "metadata": {},
      "source": [
        "## Setup\nSet up a matter-only GLASS simulation, which requires a way to obtain matter\nangular power spectra (here: CAMB) and the sampling itself (here: lognormal).\n\n"
      ]
    },
    {
      "cell_type": "code",
      "execution_count": null,
      "metadata": {
        "collapsed": false
      },
      "outputs": [],
      "source": [
        "import numpy as np\nimport healpy as hp\nimport matplotlib.pyplot as plt\n\n# these are the GLASS imports: cosmology and the glass meta-module\nfrom cosmology import LCDM\nfrom glass import glass\n\n# also needs camb itself to get the parameter object\nimport camb\n\n\n# cosmology for the simulation\nh = 0.7\nOc = 0.25\nOb = 0.05\ncosmo = LCDM(h=h, Om=Oc+Ob)\n\n# basic parameters of the simulation\nnside = 1024\nlmax = nside\nzend = 1.\n\n# set up CAMB parameters for matter angular power spectrum\npars = camb.set_params(H0=100*h, omch2=Oc*h**2, ombh2=Ob*h**2)\n\n# generators for a matter-only simulation\ngenerators = [\n    glass.sim.xspace(cosmo, 0, zend, dx=200.),\n    glass.matter.mat_wht_density(cosmo),\n    glass.camb.camb_matter_cl(pars, lmax),\n    glass.matter.lognormal_matter(nside),\n]"
      ]
    },
    {
      "cell_type": "markdown",
      "metadata": {},
      "source": [
        "## Simulation\nRun the simulation.  For each shell, plot an orthographic annulus of the\nmatter distribution.\n\n"
      ]
    },
    {
      "cell_type": "code",
      "execution_count": null,
      "metadata": {
        "collapsed": false
      },
      "outputs": [],
      "source": [
        "# make a 2d grid in comoving distance\n# precompute the 2d radius r for the orthographic projection\nn = 2000\nrend = 1.05*cosmo.xc(zend)\nx, y = np.mgrid[-rend:rend:1j*n, -rend:rend:1j*n]\nr = np.hypot(x, y)\ngrid = np.full(r.shape, np.nan)\n\n# set up the plot\nax = plt.subplot(111)\nax.axis('off')\n\n# simulate and project an annulus of each matter shell onto the grid\nfor shell in glass.sim.generate(generators):\n    rmin, rmax = cosmo.xc(shell['zmin', 'zmax'])\n    delt = shell['delta']\n    g = (rmin <= r) & (r < rmax)\n    z = np.sqrt(1 - (r[g]/rmax)**2)\n    theta, phi = hp.vec2ang(np.transpose([x[g]/rmax, y[g]/rmax, z]))\n    grid[g] = hp.get_interp_val(delt, theta, phi)\n    ax.add_patch(plt.Circle((0, 0), rmax, fc='none', ec='k', lw=0.5, alpha=0.5, zorder=1))\n\n# show the grid of shells\nax.imshow(grid, extent=[-rend, rend, -rend, rend], zorder=0,\n          cmap='bwr', vmin=-2, vmax=2)\n\n# show the resulting plot\nplt.show()"
      ]
    }
  ],
  "metadata": {
    "kernelspec": {
      "display_name": "Python 3",
      "language": "python",
      "name": "python3"
    },
    "language_info": {
      "codemirror_mode": {
        "name": "ipython",
        "version": 3
      },
      "file_extension": ".py",
      "mimetype": "text/x-python",
      "name": "python",
      "nbconvert_exporter": "python",
      "pygments_lexer": "ipython3",
      "version": "3.10.4"
    }
  },
  "nbformat": 4,
  "nbformat_minor": 0
}