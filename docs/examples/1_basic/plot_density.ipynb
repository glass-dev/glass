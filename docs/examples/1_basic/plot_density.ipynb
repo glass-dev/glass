{
  "cells": [
    {
      "cell_type": "code",
      "execution_count": null,
      "metadata": {
        "collapsed": false
      },
      "outputs": [],
      "source": [
        "%matplotlib inline"
      ]
    },
    {
      "cell_type": "markdown",
      "metadata": {},
      "source": [
        "\n# Galaxy distribution\n\nThis example simulates a matter-only light cone up to redshift 1 and samples\ngalaxies from a uniform distribution in volume.  The results are shown in a\npseudo-3D plot.  This helps to make sure the galaxies sampling across shells\nworks as intended.\n"
      ]
    },
    {
      "cell_type": "markdown",
      "metadata": {},
      "source": [
        "## Setup\nSet up a galaxy positions-only GLASS simulation.  It needs very little:\na way to obtain matter angular power spectra (here: CAMB) and a redshift\ndistribution of galaxies to sample from (here: uniform in volume).\n\n"
      ]
    },
    {
      "cell_type": "code",
      "execution_count": null,
      "metadata": {
        "collapsed": false
      },
      "outputs": [],
      "source": [
        "import numpy as np\nimport matplotlib.pyplot as plt\n\n# these are the GLASS imports: cosmology, glass modules, and the CAMB module\nfrom cosmology import LCDM\nimport glass.sim\nimport glass.camb\nimport glass.matter\nimport glass.galaxies\n\n# also needs camb itself to get the parameter object\nimport camb\n\n\n# cosmology for the simulation\ncosmo = LCDM(h=0.7, Om=0.3)\n\n# basic parameters of the simulation\nnside = 128\nlmax = nside\n\n# galaxy density\nn_arcmin2 = 0.01\n\n# uniform (in volume) source distribution with given angular density\nz = np.linspace(0, 1, 101)\ndndz = n_arcmin2*cosmo.dvc(z)/cosmo.vc(z[-1])\n\n# set up CAMB parameters for matter angular power spectrum\npars = camb.set_params(H0=100*cosmo.h, omch2=cosmo.Om*cosmo.h**2)\n\n# generators for a galaxies-only simulation\ngenerators = [\n    glass.sim.zspace(z[0], z[-1]+0.01, dz=0.1),\n    glass.camb.camb_matter_cl(pars, lmax),\n    glass.matter.lognormal_matter(nside),\n    glass.galaxies.gal_dist_fullsky(z, dndz),\n]"
      ]
    },
    {
      "cell_type": "markdown",
      "metadata": {},
      "source": [
        "## Simulation\nThe goal of this example is to make a 3D cube of the sampled galaxy numbers.\nAn comoving distance cube is initialised with zero counts, and the simulation\nis run.  For every shell in the light cone, the galaxies are counted in the\ncube.\n\n"
      ]
    },
    {
      "cell_type": "code",
      "execution_count": null,
      "metadata": {
        "collapsed": false
      },
      "outputs": [],
      "source": [
        "# make a cube for galaxy number in comoving distance\nxbin = cosmo.xc(z)\nxbin = np.concatenate([-xbin[:0:-1], xbin])\ncube = np.zeros((xbin.size-1,)*3)\n\n# simulate and add galaxies in each matter shell to cube\nfor shell in glass.sim.generate(generators):\n    rgal = cosmo.xc(shell['gal_z'])\n    lon, lat = np.deg2rad(shell['gal_lon']), np.deg2rad(shell['gal_lat'])\n    x1 = rgal*np.cos(lon)*np.cos(lat)\n    x2 = rgal*np.sin(lon)*np.cos(lat)\n    x3 = rgal*np.sin(lat)\n    (i, j, k), c = np.unique(np.searchsorted(xbin[1:], [x1, x2, x3]), axis=1, return_counts=True)\n    cube[i, j, k] += c"
      ]
    },
    {
      "cell_type": "markdown",
      "metadata": {},
      "source": [
        "## Visualisation\nLastly, make a pseudo-3D plot by stacking a number of density slices on top of\neach other.\n\n"
      ]
    },
    {
      "cell_type": "code",
      "execution_count": null,
      "metadata": {
        "collapsed": false
      },
      "outputs": [],
      "source": [
        "# positions of grid cells of the cube\nx = (xbin[:-1] + xbin[1:])/2\nx1, x2, x3 = np.meshgrid(x, x, x)\n\n# plot the galaxy distribution in pseudo-3D\nfig = plt.figure()\nax = fig.add_subplot(111, projection='3d', proj_type='ortho')\nvmin, vmax = 0, 0.8*np.max(cube)\nfor i in range(10, len(xbin)-1, 10):\n    v = np.clip((cube[..., i] - vmin)/(vmax - vmin), 0, 1)\n    c = plt.cm.inferno(v)\n    c[..., -1] = 0.5*v\n    ax.plot_surface(x1[..., i], x2[..., i], x3[..., i], facecolors=c, rstride=1, cstride=1, shade=False)\nfig.tight_layout()\nplt.show()"
      ]
    }
  ],
  "metadata": {
    "kernelspec": {
      "display_name": "Python 3",
      "language": "python",
      "name": "python3"
    },
    "language_info": {
      "codemirror_mode": {
        "name": "ipython",
        "version": 3
      },
      "file_extension": ".py",
      "mimetype": "text/x-python",
      "name": "python",
      "nbconvert_exporter": "python",
      "pygments_lexer": "ipython3",
      "version": "3.9.7"
    }
  },
  "nbformat": 4,
  "nbformat_minor": 0
}