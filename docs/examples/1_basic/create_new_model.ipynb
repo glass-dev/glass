{
  "cells": [
    {
      "cell_type": "code",
      "execution_count": null,
      "metadata": {
        "collapsed": false
      },
      "outputs": [],
      "source": [
        "%matplotlib inline"
      ]
    },
    {
      "cell_type": "markdown",
      "metadata": {},
      "source": [
        "\n# Creating a new model\n\nThis example shows how to implement and use a new model.\n"
      ]
    },
    {
      "cell_type": "markdown",
      "metadata": {},
      "source": [
        "## Setup\nThe setup here is the same as in the `sphx_glr_examples_1_basic_plot_density.py`\nexample, except that we use fewer galaxies and only a single matter shell.\n\n"
      ]
    },
    {
      "cell_type": "code",
      "execution_count": null,
      "metadata": {
        "collapsed": false
      },
      "outputs": [],
      "source": [
        "import numpy as np\nimport healpy as hp\nimport matplotlib.pyplot as plt\n\n# these are the GLASS imports: cosmology and the glass meta-module\nfrom glass import glass\n\n# also needs camb itself to get the parameter object\nimport camb\n\n# this decorator marks generators in GLASS\nfrom glass.core import generator\n\n\n# cosmology for the simulation\nh = 0.7\nOc = 0.25\nOb = 0.05\n\n# basic parameters of the simulation\nnside = 128\nlmax = nside\n\n# galaxy density\nn_arcmin2 = 1e-5\n\n# flat source distribution with given angular density\nz = np.linspace(0, 0.1, 11)\ndndz = np.ones_like(z)\ndndz *= n_arcmin2/np.trapz(dndz, z)\n\n# set up CAMB parameters for matter angular power spectrum\npars = camb.set_params(H0=100*h, omch2=Oc*h**2, ombh2=Ob*h**2)\n\n# generators for a galaxies-only simulation\ngenerators = [\n    glass.sim.zspace(z[0], z[-1]+0.01, dz=0.1),\n    glass.matter.mat_wht_redshift(),\n    glass.camb.camb_matter_cl(pars, lmax),\n    glass.matter.lognormal_matter(nside),\n    glass.galaxies.gal_dist_fullsky(z, dndz),\n]"
      ]
    },
    {
      "cell_type": "markdown",
      "metadata": {},
      "source": [
        "## Model\nWe will now add a custom model that returns a flag to indicate whether a\ngalaxy is found in a matter overdensity or underdensity.\n\nThe new model is prototypical of \"inputs to outputs\" models in GLASS.  Like\nall GLASS models, it is implemented as a simple Python generator.  The model\ncan take global parameters, here a ``thresh`` value for the threshold at\nwhich matter is considered overdense.  The generator then runs in a loop: At\neach iteration of the simulation, it receives the matter density ``delta``\nand galaxy positions ``gal_lon, gal_lat``.  It then yields the newly computed\noverdensity flag ``gal_od_flag`` provided by the model.\n\n"
      ]
    },
    {
      "cell_type": "code",
      "execution_count": null,
      "metadata": {
        "collapsed": false
      },
      "outputs": [],
      "source": [
        "# the decorator marks this as a GLASS generator\n# its signature determines the inputs and outputs\n@generator('delta, gal_lon, gal_lat -> gal_od_flag')\ndef gal_od_flag_model(thresh=0.):\n\n    # initial yield\n    od_flag = None\n\n    # receive inputs and yield outputs, or break on exit\n    while True:\n        try:\n            delta, lon, lat = yield od_flag\n        except GeneratorExit:\n            break\n\n        # perform the computation for this iteration\n        # get the HEALPix pixel index of the galaxies\n        # set the flag according to whether the overdensity is above threshold\n        nside = hp.get_nside(delta)\n        ipix = hp.ang2pix(nside, lon, lat, lonlat=True)\n        od = delta[ipix]\n        od_flag = (od > thresh)\n\n        # the computation then loops around and yields our latest results\n\n    # it's possible to post-process after the simulation stopped\n    print('done with our model')\n\n\n# add our new model to the generators used in the simulation\ngenerators.append(gal_od_flag_model(thresh=0.01))"
      ]
    },
    {
      "cell_type": "markdown",
      "metadata": {},
      "source": [
        "## Simulation\nRun the simulation.  We will keep track of galaxy positions and their\noverdensity flags returned by our model.\n\n"
      ]
    },
    {
      "cell_type": "code",
      "execution_count": null,
      "metadata": {
        "collapsed": false
      },
      "outputs": [],
      "source": [
        "# keep lists of positions and the overdensity flags\nlon, lat, od_flag = np.empty(0), np.empty(0), np.empty(0, dtype=bool)\n\n# simulate and add galaxies in each iteration to lists\nfor it in glass.sim.generate(generators):\n    lon = np.append(lon, it['gal_lon'])\n    lat = np.append(lat, it['gal_lat'])\n    od_flag = np.append(od_flag, it['gal_od_flag'])"
      ]
    },
    {
      "cell_type": "markdown",
      "metadata": {},
      "source": [
        "## Visualisation\nShow the positions of galaxies in underdense regions.\n\n"
      ]
    },
    {
      "cell_type": "code",
      "execution_count": null,
      "metadata": {
        "collapsed": false
      },
      "outputs": [],
      "source": [
        "plt.subplot(111, projection='lambert')\nplt.title('galaxies in underdensities')\nplt.scatter(np.deg2rad(lon[~od_flag]), np.deg2rad(lat[~od_flag]), 8.0, 'r', alpha=0.5)\nplt.grid(True)\nplt.show()"
      ]
    }
  ],
  "metadata": {
    "kernelspec": {
      "display_name": "Python 3",
      "language": "python",
      "name": "python3"
    },
    "language_info": {
      "codemirror_mode": {
        "name": "ipython",
        "version": 3
      },
      "file_extension": ".py",
      "mimetype": "text/x-python",
      "name": "python",
      "nbconvert_exporter": "python",
      "pygments_lexer": "ipython3",
      "version": "3.10.4"
    }
  },
  "nbformat": 4,
  "nbformat_minor": 0
}