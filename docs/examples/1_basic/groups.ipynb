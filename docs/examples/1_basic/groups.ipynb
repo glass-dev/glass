{
  "cells": [
    {
      "cell_type": "code",
      "execution_count": null,
      "metadata": {
        "collapsed": false
      },
      "outputs": [],
      "source": [
        "%matplotlib inline"
      ]
    },
    {
      "cell_type": "markdown",
      "metadata": {},
      "source": [
        "\n# Generator groups\n\nThis example demonstrates how generators can be grouped.  Groups provide a\nlayered namespace for outputs.  This is useful if similar generators are run\nfor different populations of objects, since it removes the need to manually\nchange input and output names.\n"
      ]
    },
    {
      "cell_type": "markdown",
      "metadata": {},
      "source": [
        "## Setup\nThe simplest galaxies-only GLASS simulation, sampling galaxies uniformly over\nthe sphere using some redshift distribution.  Galaxies are sampled in two\ngroups: low and high redshifts.\n\n"
      ]
    },
    {
      "cell_type": "code",
      "execution_count": null,
      "metadata": {
        "collapsed": false
      },
      "outputs": [],
      "source": [
        "import numpy as np\nimport matplotlib.pyplot as plt\n\n# these are the GLASS imports: only the glass meta-module\nfrom glass import glass\n\n\n# basic parameters of the simulation\nnside = 128\nlmax = nside\n\n# galaxy density\nn_arcmin2 = 1e-4\n\n# parametric galaxy redshift distribution\nz = np.linspace(0, 3, 301)\ndndz_low = n_arcmin2*glass.observations.smail_nz(z, 0.5, 1.0, 2.5)\ndndz_high = n_arcmin2*glass.observations.smail_nz(z, 2.0, 4.0, 2.5)\n\n# generators for a uniform galaxies simulation\ngenerators = [\n    glass.sim.zspace(z[0], z[-1]+0.01, dz=0.25),\n    glass.sim.group('low-z', [\n        glass.galaxies.gal_dist_uniform(z, dndz_low),\n    ]),\n    glass.sim.group('high-z', [\n        glass.galaxies.gal_dist_uniform(z, dndz_high),\n    ]),\n]"
      ]
    },
    {
      "cell_type": "markdown",
      "metadata": {},
      "source": [
        "## Simulation\nKeep the simulated redshifts of both populations.  Note how the groups provide\na nested namespace for the data.\n\n"
      ]
    },
    {
      "cell_type": "code",
      "execution_count": null,
      "metadata": {
        "collapsed": false
      },
      "outputs": [],
      "source": [
        "# arrays for true (ztrue) and photmetric (zphot) redshifts\nlow_z = np.empty(0)\nhigh_z = np.empty(0)\n\n# simulate and add galaxies in each matter shell to arrays\nfor shell in glass.sim.generate(generators):\n    low_z = np.append(low_z, shell['low-z']['gal_z'])\n    high_z = np.append(high_z, shell['high-z']['gal_z'])"
      ]
    },
    {
      "cell_type": "markdown",
      "metadata": {},
      "source": [
        "## Plots\nPlot the two distributions together with the expected inputs.\n\n"
      ]
    },
    {
      "cell_type": "code",
      "execution_count": null,
      "metadata": {
        "collapsed": false
      },
      "outputs": [],
      "source": [
        "norm = glass.util.ARCMIN2_SPHERE*(z[-1] - z[0])/40\n\nfor zz, nz, label in (low_z, dndz_low, 'low-z'), (high_z, dndz_high, 'high-z'):\n    plt.hist(zz, bins=40, range=(z[0], z[-1]), histtype='stepfilled', alpha=0.5, label=label)\n    plt.plot(z, norm*nz, '-k', lw=1, alpha=0.5)\nplt.xlabel('redshift $z$')\nplt.ylabel('number of galaxies')\nplt.legend()\nplt.show()"
      ]
    }
  ],
  "metadata": {
    "kernelspec": {
      "display_name": "Python 3",
      "language": "python",
      "name": "python3"
    },
    "language_info": {
      "codemirror_mode": {
        "name": "ipython",
        "version": 3
      },
      "file_extension": ".py",
      "mimetype": "text/x-python",
      "name": "python",
      "nbconvert_exporter": "python",
      "pygments_lexer": "ipython3",
      "version": "3.9.7"
    }
  },
  "nbformat": 4,
  "nbformat_minor": 0
}